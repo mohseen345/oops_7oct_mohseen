{
  "cells": [
    {
      "cell_type": "code",
      "execution_count": 1,
      "id": "8b6a7b1a-3ff5-4b22-be3e-d3b2d7aa7e3a",
      "metadata": {
        "id": "8b6a7b1a-3ff5-4b22-be3e-d3b2d7aa7e3a"
      },
      "outputs": [],
      "source": [
        "class a :\n",
        "\n",
        "    def test(self):\n",
        "        print(\"this test method is a part of class a\")\n",
        "\n",
        "    def test1(self):\n",
        "        print(\"this is test1 from class a \")"
      ]
    },
    {
      "cell_type": "code",
      "execution_count": null,
      "id": "8e4d306f-fdb4-47a0-a93d-597f5b21d30b",
      "metadata": {
        "id": "8e4d306f-fdb4-47a0-a93d-597f5b21d30b"
      },
      "outputs": [],
      "source": [
        "obj_a = a()"
      ]
    },
    {
      "cell_type": "code",
      "execution_count": 2,
      "id": "81ef5597-cf96-4ed9-a4f6-21e2e93aca70",
      "metadata": {
        "colab": {
          "base_uri": "https://localhost:8080/",
          "height": 141
        },
        "id": "81ef5597-cf96-4ed9-a4f6-21e2e93aca70",
        "outputId": "cad96d4f-4a08-4347-8603-92db304c3ee9"
      },
      "outputs": [
        {
          "output_type": "error",
          "ename": "NameError",
          "evalue": "name 'obj_a' is not defined",
          "traceback": [
            "\u001b[0;31m---------------------------------------------------------------------------\u001b[0m",
            "\u001b[0;31mNameError\u001b[0m                                 Traceback (most recent call last)",
            "\u001b[0;32m<ipython-input-2-7bc61c59c36d>\u001b[0m in \u001b[0;36m<cell line: 1>\u001b[0;34m()\u001b[0m\n\u001b[0;32m----> 1\u001b[0;31m \u001b[0mobj_a\u001b[0m\u001b[0;34m.\u001b[0m\u001b[0mtest\u001b[0m\u001b[0;34m(\u001b[0m\u001b[0;34m)\u001b[0m\u001b[0;34m\u001b[0m\u001b[0;34m\u001b[0m\u001b[0m\n\u001b[0m",
            "\u001b[0;31mNameError\u001b[0m: name 'obj_a' is not defined"
          ]
        }
      ],
      "source": [
        "obj_a.test()"
      ]
    },
    {
      "cell_type": "code",
      "execution_count": null,
      "id": "11ee63d6-433d-48dc-ada0-5dd6771310ba",
      "metadata": {
        "id": "11ee63d6-433d-48dc-ada0-5dd6771310ba"
      },
      "outputs": [],
      "source": [
        "class b(a) :\n",
        "    def test1b(self):\n",
        "        print(\"this is a part of class b \")"
      ]
    },
    {
      "cell_type": "code",
      "execution_count": null,
      "id": "badaedfe-57d1-43c6-9193-e5afb0f31dbc",
      "metadata": {
        "id": "badaedfe-57d1-43c6-9193-e5afb0f31dbc"
      },
      "outputs": [],
      "source": [
        "obj_b = b()"
      ]
    },
    {
      "cell_type": "code",
      "execution_count": null,
      "id": "3ce19f61-ba8e-4050-9d4d-614adfd964c5",
      "metadata": {
        "id": "3ce19f61-ba8e-4050-9d4d-614adfd964c5",
        "outputId": "09b81671-0da3-4743-db6c-c85d22a8046f"
      },
      "outputs": [
        {
          "name": "stdout",
          "output_type": "stream",
          "text": [
            "this test method is a part of class a\n"
          ]
        }
      ],
      "source": [
        "obj_b.test()"
      ]
    },
    {
      "cell_type": "code",
      "execution_count": null,
      "id": "5e473fae-e094-4407-99df-16a04ab4c80a",
      "metadata": {
        "id": "5e473fae-e094-4407-99df-16a04ab4c80a",
        "outputId": "8e710c38-7b12-47b8-e017-11c05a409cf4"
      },
      "outputs": [
        {
          "name": "stdout",
          "output_type": "stream",
          "text": [
            "this is test1 from class a \n"
          ]
        }
      ],
      "source": [
        "obj_b.test1()"
      ]
    },
    {
      "cell_type": "code",
      "execution_count": null,
      "id": "02a8f055-535f-4bc2-adc1-575445f82570",
      "metadata": {
        "id": "02a8f055-535f-4bc2-adc1-575445f82570"
      },
      "outputs": [],
      "source": [
        "obj_b."
      ]
    },
    {
      "cell_type": "code",
      "execution_count": null,
      "id": "59361cd3-c0c4-4ddd-abac-cbe3275ade5f",
      "metadata": {
        "id": "59361cd3-c0c4-4ddd-abac-cbe3275ade5f"
      },
      "outputs": [],
      "source": [
        "class lecture:\n",
        "\n",
        "    def topic(self):\n",
        "        print(\"todays class we are discussing about inheritance condept in oops\")\n",
        "\n",
        "    def timing(self):\n",
        "        print(\"timing for todays class is 9 AM IST\")\n",
        "\n",
        "    def end_time(self):\n",
        "        print(\"today i will try to end class bit early\")"
      ]
    },
    {
      "cell_type": "code",
      "execution_count": null,
      "id": "6e3dd2de-883e-4e9e-98a0-4a7089af1627",
      "metadata": {
        "id": "6e3dd2de-883e-4e9e-98a0-4a7089af1627"
      },
      "outputs": [],
      "source": [
        "class student(lecture):\n",
        "\n",
        "    def student_details(self):\n",
        "        print(\"this class will give you a student details\")"
      ]
    },
    {
      "cell_type": "code",
      "execution_count": null,
      "id": "c2ad2a89-0f29-4410-86c4-e33f47b4186d",
      "metadata": {
        "id": "c2ad2a89-0f29-4410-86c4-e33f47b4186d"
      },
      "outputs": [],
      "source": [
        "naval = student()"
      ]
    },
    {
      "cell_type": "code",
      "execution_count": null,
      "id": "38c86e7f-5560-464a-b597-c88a74819f1a",
      "metadata": {
        "id": "38c86e7f-5560-464a-b597-c88a74819f1a",
        "outputId": "4b86a5ee-26ba-41a8-f563-bb17fb6ac7ea"
      },
      "outputs": [
        {
          "name": "stdout",
          "output_type": "stream",
          "text": [
            "todays class we are discussing about inheritance condept in oops\n"
          ]
        }
      ],
      "source": [
        "naval.topic()"
      ]
    },
    {
      "cell_type": "code",
      "execution_count": null,
      "id": "02efc8a4-f995-4f85-87d2-620ccc0f61fa",
      "metadata": {
        "id": "02efc8a4-f995-4f85-87d2-620ccc0f61fa",
        "outputId": "98cbbe31-6c49-4fd0-85b2-dee9428d66bd"
      },
      "outputs": [
        {
          "name": "stdout",
          "output_type": "stream",
          "text": [
            "timing for todays class is 9 AM IST\n"
          ]
        }
      ],
      "source": [
        "satish = student()\n",
        "satish.timing()"
      ]
    },
    {
      "cell_type": "code",
      "execution_count": null,
      "id": "03932972-a58b-46e5-a3f8-ffc43c84ce53",
      "metadata": {
        "id": "03932972-a58b-46e5-a3f8-ffc43c84ce53"
      },
      "outputs": [],
      "source": [
        "class teacher(student):\n",
        "    def details(self):\n",
        "        print(\"this will give you a details about teacher\")"
      ]
    },
    {
      "cell_type": "code",
      "execution_count": null,
      "id": "fff36c1b-f1e9-467e-b29f-c304aa9feec9",
      "metadata": {
        "id": "fff36c1b-f1e9-467e-b29f-c304aa9feec9",
        "outputId": "8db03c39-7cd2-4e3e-e5a9-ac5de01ae837"
      },
      "outputs": [
        {
          "name": "stdout",
          "output_type": "stream",
          "text": [
            "timing for todays class is 9 AM IST\n"
          ]
        }
      ],
      "source": [
        "sudh = teacher()\n",
        "sudh.timing()"
      ]
    },
    {
      "cell_type": "code",
      "execution_count": null,
      "id": "a5e8c94b-de62-4ef5-8eba-81259d83dd3d",
      "metadata": {
        "id": "a5e8c94b-de62-4ef5-8eba-81259d83dd3d"
      },
      "outputs": [],
      "source": [
        "class lecture:\n",
        "    def topic(self):\n",
        "        print(\"todays class we are discussing about inheritance condept in oops\")\n",
        "\n",
        "    def timing(self):\n",
        "        print(\"timing for todays class is 9 AM IST\")\n",
        "\n",
        "    def end_time(self):\n",
        "        print(\"today i will try to end class bit early\")"
      ]
    },
    {
      "cell_type": "code",
      "execution_count": null,
      "id": "2007141c-1b71-4cd4-9bed-a3cd8d851baa",
      "metadata": {
        "id": "2007141c-1b71-4cd4-9bed-a3cd8d851baa"
      },
      "outputs": [],
      "source": [
        "class student:\n",
        "\n",
        "    def student_details(self):\n",
        "        print(\"this class will give you a student details\")\n",
        "\n",
        "    def timing(self):\n",
        "        print(\"this is a timing fun from student class\")\n",
        ""
      ]
    },
    {
      "cell_type": "code",
      "execution_count": null,
      "id": "272860d3-1fac-475b-8c09-0490069224bc",
      "metadata": {
        "id": "272860d3-1fac-475b-8c09-0490069224bc"
      },
      "outputs": [],
      "source": [
        "class teacher(lecture,student):\n",
        "    def details(self):\n",
        "        print(\"this will give you a details about teacher\")"
      ]
    },
    {
      "cell_type": "code",
      "execution_count": null,
      "id": "f4a9ae16-f0e3-4a4a-a003-38773611cd2a",
      "metadata": {
        "id": "f4a9ae16-f0e3-4a4a-a003-38773611cd2a"
      },
      "outputs": [],
      "source": [
        "krish = teacher()"
      ]
    },
    {
      "cell_type": "code",
      "execution_count": null,
      "id": "6dc85f37-219e-4c72-927c-9aebb550fea9",
      "metadata": {
        "id": "6dc85f37-219e-4c72-927c-9aebb550fea9",
        "outputId": "5aa6ba3f-6906-4037-d8be-c1232132660d"
      },
      "outputs": [
        {
          "name": "stdout",
          "output_type": "stream",
          "text": [
            "timing for todays class is 9 AM IST\n"
          ]
        }
      ],
      "source": [
        "krish.timing()"
      ]
    },
    {
      "cell_type": "code",
      "execution_count": null,
      "id": "8bcbac88-9172-4a31-a191-9c4b9a1c6eac",
      "metadata": {
        "id": "8bcbac88-9172-4a31-a191-9c4b9a1c6eac",
        "outputId": "ee78abf0-eb76-40dd-b2f3-b7024a235a32"
      },
      "outputs": [
        {
          "name": "stdout",
          "output_type": "stream",
          "text": [
            "this class will give you a student details\n"
          ]
        }
      ],
      "source": [
        "krish.student_details()"
      ]
    },
    {
      "cell_type": "markdown",
      "source": [
        "1.Bank Account Create a class representing a bank account with attributes like account number, account holder name, and balance. Implement methods to deposit and withdraw money from the account."
      ],
      "metadata": {
        "id": "Dob0Kaq4qW79"
      },
      "id": "Dob0Kaq4qW79"
    },
    {
      "cell_type": "code",
      "source": [
        "class BankAccount:\n",
        "    def __init__(self, account_number, account_holder_name, balance=0):\n",
        "        self.account_number = account_number\n",
        "        self.account_holder_name = account_holder_name\n",
        "        self.balance = balance\n",
        "\n",
        "    def deposit(self, amount):\n",
        "        if amount > 0:\n",
        "            self.balance += amount\n",
        "            print(f\"Deposit of {amount} successful. New balance: {self.balance}\")\n",
        "        else:\n",
        "            print(\"Invalid deposit amount. Please enter a positive value.\")\n",
        "\n",
        "    def withdraw(self, amount):\n",
        "        if amount > 0 and amount <= self.balance:\n",
        "            self.balance -= amount\n",
        "            print(f\"Withdrawal of {amount} successful. New balance: {self.balance}\")\n",
        "        else:\n",
        "            print(\"Invalid withdrawal amount or insufficient funds.\")\n",
        "\n",
        "# Example usage:\n",
        "account1 = BankAccount(\"123456789\", \"John Doe\", 1000)\n",
        "print(f\"Initial balance: {account1.balance}\")\n",
        "account1.deposit(500)\n",
        "account1.withdraw(200)\n",
        "account1.withdraw(1500)\n"
      ],
      "metadata": {
        "colab": {
          "base_uri": "https://localhost:8080/"
        },
        "id": "5nMcXpHcs5z1",
        "outputId": "77c814e2-2def-4955-ec90-d6217fd363dc"
      },
      "id": "5nMcXpHcs5z1",
      "execution_count": 6,
      "outputs": [
        {
          "output_type": "stream",
          "name": "stdout",
          "text": [
            "Initial balance: 1000\n",
            "Deposit of 500 successful. New balance: 1500\n",
            "Withdrawal of 200 successful. New balance: 1300\n",
            "Invalid withdrawal amount or insufficient funds.\n"
          ]
        }
      ]
    },
    {
      "cell_type": "markdown",
      "source": [
        "2.Employee Management Create a class representing an employee with attributes like employee ID, name, and salary. Implement methods to calculate the yearly bonus and display employee details."
      ],
      "metadata": {
        "id": "S5I6Snv4tDMQ"
      },
      "id": "S5I6Snv4tDMQ"
    },
    {
      "cell_type": "code",
      "source": [
        "class Employee:\n",
        "    def __init__(self, employee_id, name, salary):\n",
        "        self.employee_id = employee_id\n",
        "        self.name = name\n",
        "        self.salary = salary\n",
        "\n",
        "    def calculate_yearly_bonus(self, bonus_percentage):\n",
        "        bonus_amount = (bonus_percentage / 100) * self.salary\n",
        "        return bonus_amount\n",
        "\n",
        "    def display_details(self):\n",
        "        print(\"Employee Details:\")\n",
        "        print(f\"Employee ID: {self.employee_id}\")\n",
        "        print(f\"Name: {self.name}\")\n",
        "        print(f\"Salary: ${self.salary}\")\n",
        "\n",
        "# Example usage:\n",
        "employee1 = Employee(\"E001\", \"John Doe\", 50000)\n",
        "employee1.display_details()\n",
        "bonus = employee1.calculate_yearly_bonus(10)  # 10% bonus\n",
        "print(f\"Yearly bonus: ${bonus}\")\n"
      ],
      "metadata": {
        "colab": {
          "base_uri": "https://localhost:8080/"
        },
        "id": "xQScmtadtKwk",
        "outputId": "3a993d3f-b8b4-4106-a3f9-4c8c357836e3"
      },
      "id": "xQScmtadtKwk",
      "execution_count": 7,
      "outputs": [
        {
          "output_type": "stream",
          "name": "stdout",
          "text": [
            "Employee Details:\n",
            "Employee ID: E001\n",
            "Name: John Doe\n",
            "Salary: $50000\n",
            "Yearly bonus: $5000.0\n"
          ]
        }
      ]
    },
    {
      "cell_type": "markdown",
      "source": [
        "3.Vehicle Rental Create a class representing a vehicle rental system. Implement methods to rent a vehicle, return a vehicle, and display available vehicles."
      ],
      "metadata": {
        "id": "YRCwBDeYtgPu"
      },
      "id": "YRCwBDeYtgPu"
    },
    {
      "cell_type": "code",
      "source": [
        "class Vehicle:\n",
        "    def __init__(self, vehicle_id, make, model, year, available=True):\n",
        "        self.vehicle_id = vehicle_id\n",
        "        self.make = make\n",
        "        self.model = model\n",
        "        self.year = year\n",
        "        self.available = available\n",
        "\n",
        "    def rent(self):\n",
        "        if self.available:\n",
        "            self.available = False\n",
        "            print(f\"{self.make} {self.model} {self.year} has been rented.\")\n",
        "        else:\n",
        "            print(\"Sorry, this vehicle is not available for rent.\")\n",
        "\n",
        "    def return_vehicle(self):\n",
        "        if not self.available:\n",
        "            self.available = True\n",
        "            print(f\"{self.make} {self.model} {self.year} has been returned.\")\n",
        "        else:\n",
        "            print(\"This vehicle is already available.\")\n",
        "\n",
        "class VehicleRentalSystem:\n",
        "    def __init__(self):\n",
        "        self.vehicles = []\n",
        "\n",
        "    def add_vehicle(self, vehicle):\n",
        "        self.vehicles.append(vehicle)\n",
        "\n",
        "    def display_available_vehicles(self):\n",
        "        print(\"Available Vehicles:\")\n",
        "        for vehicle in self.vehicles:\n",
        "            if vehicle.available:\n",
        "                print(f\"{vehicle.make} {vehicle.model} {vehicle.year}\")\n",
        "\n",
        "# Example usage:\n",
        "rental_system = VehicleRentalSystem()\n",
        "\n",
        "car1 = Vehicle(\"V001\", \"Toyota\", \"Camry\", 2020)\n",
        "car2 = Vehicle(\"V002\", \"Honda\", \"Accord\", 2019)\n",
        "car3 = Vehicle(\"V003\", \"Ford\", \"Mustang\", 2021)\n",
        "\n",
        "rental_system.add_vehicle(car1)\n",
        "rental_system.add_vehicle(car2)\n",
        "rental_system.add_vehicle(car3)\n",
        "\n",
        "rental_system.display_available_vehicles()\n",
        "\n",
        "car1.rent()\n",
        "car2.rent()\n",
        "\n",
        "rental_system.display_available_vehicles()\n",
        "\n",
        "car1.return_vehicle()\n",
        "\n",
        "rental_system.display_available_vehicles()\n"
      ],
      "metadata": {
        "colab": {
          "base_uri": "https://localhost:8080/"
        },
        "id": "ereft6bOtmao",
        "outputId": "5c40e85e-78ee-4c5a-9439-6f0b2baf6d7d"
      },
      "id": "ereft6bOtmao",
      "execution_count": 8,
      "outputs": [
        {
          "output_type": "stream",
          "name": "stdout",
          "text": [
            "Available Vehicles:\n",
            "Toyota Camry 2020\n",
            "Honda Accord 2019\n",
            "Ford Mustang 2021\n",
            "Toyota Camry 2020 has been rented.\n",
            "Honda Accord 2019 has been rented.\n",
            "Available Vehicles:\n",
            "Ford Mustang 2021\n",
            "Toyota Camry 2020 has been returned.\n",
            "Available Vehicles:\n",
            "Toyota Camry 2020\n",
            "Ford Mustang 2021\n"
          ]
        }
      ]
    },
    {
      "cell_type": "markdown",
      "source": [
        "4. Library Catalog Create classes representing a library and a book. Implement methods to add books to the library, borrow books, and display available books."
      ],
      "metadata": {
        "id": "nRdIRuKxt1jQ"
      },
      "id": "nRdIRuKxt1jQ"
    },
    {
      "cell_type": "code",
      "source": [
        "class Book:\n",
        "    def __init__(self, book_id, title, author, available=True):\n",
        "        self.book_id = book_id\n",
        "        self.title = title\n",
        "        self.author = author\n",
        "        self.available = available\n",
        "\n",
        "    def borrow(self):\n",
        "        if self.available:\n",
        "            self.available = False\n",
        "            print(f\"The book '{self.title}' by {self.author} has been borrowed.\")\n",
        "        else:\n",
        "            print(f\"The book '{self.title}' by {self.author} is currently unavailable.\")\n",
        "\n",
        "    def return_book(self):\n",
        "        if not self.available:\n",
        "            self.available = True\n",
        "            print(f\"The book '{self.title}' by {self.author} has been returned.\")\n",
        "        else:\n",
        "            print(f\"The book '{self.title}' by {self.author} is already available.\")\n",
        "\n",
        "class Library:\n",
        "    def __init__(self):\n",
        "        self.books = []\n",
        "\n",
        "    def add_book(self, book):\n",
        "        self.books.append(book)\n",
        "\n",
        "    def display_available_books(self):\n",
        "        print(\"Available Books:\")\n",
        "        for book in self.books:\n",
        "            if book.available:\n",
        "                print(f\"Title: {book.title}, Author: {book.author}\")\n",
        "\n",
        "# Example usage:\n",
        "library = Library()\n",
        "\n",
        "book1 = Book(\"B001\", \"To Kill a Mockingbird\", \"Harper Lee\")\n",
        "book2 = Book(\"B002\", \"1984\", \"George Orwell\")\n",
        "book3 = Book(\"B003\", \"Pride and Prejudice\", \"Jane Austen\")\n",
        "\n",
        "library.add_book(book1)\n",
        "library.add_book(book2)\n",
        "library.add_book(book3)\n",
        "\n",
        "library.display_available_books()\n",
        "\n",
        "book1.borrow()\n",
        "book2.borrow()\n",
        "book1.borrow()  # Trying to borrow the same book again\n",
        "book3.borrow()\n",
        "\n",
        "library.display_available_books()\n",
        "\n",
        "book1.return_book()\n",
        "book2.return_book()\n",
        "\n",
        "library.display_available_books()\n"
      ],
      "metadata": {
        "colab": {
          "base_uri": "https://localhost:8080/"
        },
        "id": "ua52o3Lgt24B",
        "outputId": "1e84e9b4-393d-4223-ea15-7c80df7f7293"
      },
      "id": "ua52o3Lgt24B",
      "execution_count": 9,
      "outputs": [
        {
          "output_type": "stream",
          "name": "stdout",
          "text": [
            "Available Books:\n",
            "Title: To Kill a Mockingbird, Author: Harper Lee\n",
            "Title: 1984, Author: George Orwell\n",
            "Title: Pride and Prejudice, Author: Jane Austen\n",
            "The book 'To Kill a Mockingbird' by Harper Lee has been borrowed.\n",
            "The book '1984' by George Orwell has been borrowed.\n",
            "The book 'To Kill a Mockingbird' by Harper Lee is currently unavailable.\n",
            "The book 'Pride and Prejudice' by Jane Austen has been borrowed.\n",
            "Available Books:\n",
            "The book 'To Kill a Mockingbird' by Harper Lee has been returned.\n",
            "The book '1984' by George Orwell has been returned.\n",
            "Available Books:\n",
            "Title: To Kill a Mockingbird, Author: Harper Lee\n",
            "Title: 1984, Author: George Orwell\n"
          ]
        }
      ]
    },
    {
      "cell_type": "markdown",
      "source": [
        "5.Product Inventory Create classes representing a product and an inventory system. Implement methods to add products to the inventory, update product quantity, and display available products."
      ],
      "metadata": {
        "id": "GktkSeqeuLel"
      },
      "id": "GktkSeqeuLel"
    },
    {
      "cell_type": "code",
      "source": [
        "class Product:\n",
        "    def __init__(self, product_id, name, price, quantity):\n",
        "        self.product_id = product_id\n",
        "        self.name = name\n",
        "        self.price = price\n",
        "        self.quantity = quantity\n",
        "\n",
        "    def __str__(self):\n",
        "        return f\"Product ID: {self.product_id}, Name: {self.name}, Price: ${self.price}, Quantity: {self.quantity}\"\n",
        "\n",
        "class Inventory:\n",
        "    def __init__(self):\n",
        "        self.products = []\n",
        "\n",
        "    def add_product(self, product):\n",
        "        self.products.append(product)\n",
        "        print(f\"Product '{product.name}' added to inventory.\")\n",
        "\n",
        "    def update_quantity(self, product_id, new_quantity):\n",
        "        for product in self.products:\n",
        "            if product.product_id == product_id:\n",
        "                product.quantity = new_quantity\n",
        "                print(f\"Quantity of product '{product.name}' updated to {new_quantity}.\")\n",
        "                return\n",
        "        print(\"Product not found in inventory.\")\n",
        "\n",
        "    def display_available_products(self):\n",
        "        print(\"Available Products:\")\n",
        "        for product in self.products:\n",
        "            print(product)\n",
        "\n",
        "# Example usage:\n",
        "inventory = Inventory()\n",
        "\n",
        "product1 = Product(\"P001\", \"Laptop\", 1000, 10)\n",
        "product2 = Product(\"P002\", \"Smartphone\", 500, 20)\n",
        "product3 = Product(\"P003\", \"Headphones\", 50, 30)\n",
        "\n",
        "inventory.add_product(product1)\n",
        "inventory.add_product(product2)\n",
        "inventory.add_product(product3)\n",
        "\n",
        "inventory.display_available_products()\n",
        "\n",
        "inventory.update_quantity(\"P002\", 25)\n",
        "inventory.update_quantity(\"P004\", 5)  # Trying to update quantity for a non-existent product\n",
        "\n",
        "inventory.display_available_products()\n"
      ],
      "metadata": {
        "colab": {
          "base_uri": "https://localhost:8080/"
        },
        "id": "00-9bV8auNjf",
        "outputId": "8b260bfd-8f69-4548-b8f9-de65b60c8fe7"
      },
      "id": "00-9bV8auNjf",
      "execution_count": 10,
      "outputs": [
        {
          "output_type": "stream",
          "name": "stdout",
          "text": [
            "Product 'Laptop' added to inventory.\n",
            "Product 'Smartphone' added to inventory.\n",
            "Product 'Headphones' added to inventory.\n",
            "Available Products:\n",
            "Product ID: P001, Name: Laptop, Price: $1000, Quantity: 10\n",
            "Product ID: P002, Name: Smartphone, Price: $500, Quantity: 20\n",
            "Product ID: P003, Name: Headphones, Price: $50, Quantity: 30\n",
            "Quantity of product 'Smartphone' updated to 25.\n",
            "Product not found in inventory.\n",
            "Available Products:\n",
            "Product ID: P001, Name: Laptop, Price: $1000, Quantity: 10\n",
            "Product ID: P002, Name: Smartphone, Price: $500, Quantity: 25\n",
            "Product ID: P003, Name: Headphones, Price: $50, Quantity: 30\n"
          ]
        }
      ]
    },
    {
      "cell_type": "markdown",
      "source": [
        "6.Shape Calculation Create a class representing a shape with attributes like length, width, and height. Implement methods to calculate the area and perimeter of the shape."
      ],
      "metadata": {
        "id": "-OO4-d0NuyX5"
      },
      "id": "-OO4-d0NuyX5"
    },
    {
      "cell_type": "code",
      "source": [
        "class Shape:\n",
        "    def __init__(self, length=None, width=None, height=None):\n",
        "        self.length = length\n",
        "        self.width = width\n",
        "        self.height = height\n",
        "\n",
        "    def calculate_area(self):\n",
        "        raise NotImplementedError(\"Subclasses must implement calculate_area method.\")\n",
        "\n",
        "    def calculate_perimeter(self):\n",
        "        raise NotImplementedError(\"Subclasses must implement calculate_perimeter method.\")\n",
        "\n",
        "class Rectangle(Shape):\n",
        "    def calculate_area(self):\n",
        "        return self.length * self.width\n",
        "\n",
        "    def calculate_perimeter(self):\n",
        "        return 2 * (self.length + self.width)\n",
        "\n",
        "class Square(Rectangle):\n",
        "    def __init__(self, side):\n",
        "        super().__init__(side, side)\n",
        "\n",
        "    # Square inherits calculate_area and calculate_perimeter methods from Rectangle\n",
        "\n",
        "class Triangle(Shape):\n",
        "    def calculate_area(self):\n",
        "        # Using Heron's formula to calculate the area of a triangle\n",
        "        s = (self.length + self.width + self.height) / 2\n",
        "        return (s * (s - self.length) * (s - self.width) * (s - self.height)) ** 0.5\n",
        "\n",
        "    def calculate_perimeter(self):\n",
        "        return self.length + self.width + self.height\n",
        "\n",
        "# Example usage:\n",
        "rectangle = Rectangle(5, 4)\n",
        "print(\"Rectangle:\")\n",
        "print(\"Area:\", rectangle.calculate_area())\n",
        "print(\"Perimeter:\", rectangle.calculate_perimeter())\n",
        "\n",
        "square = Square(5)\n",
        "print(\"\\nSquare:\")\n",
        "print(\"Area:\", square.calculate_area())\n",
        "print(\"Perimeter:\", square.calculate_perimeter())\n",
        "\n",
        "triangle = Triangle(3, 4, 5)\n",
        "print(\"\\nTriangle:\")\n",
        "print(\"Area:\", triangle.calculate_area())\n",
        "print(\"Perimeter:\", triangle.calculate_perimeter())\n"
      ],
      "metadata": {
        "colab": {
          "base_uri": "https://localhost:8080/"
        },
        "id": "tceSxLMPu-Tn",
        "outputId": "c0f29071-01d4-4884-fa0f-89623348ede5"
      },
      "id": "tceSxLMPu-Tn",
      "execution_count": 11,
      "outputs": [
        {
          "output_type": "stream",
          "name": "stdout",
          "text": [
            "Rectangle:\n",
            "Area: 20\n",
            "Perimeter: 18\n",
            "\n",
            "Square:\n",
            "Area: 25\n",
            "Perimeter: 20\n",
            "\n",
            "Triangle:\n",
            "Area: 6.0\n",
            "Perimeter: 12\n"
          ]
        }
      ]
    },
    {
      "cell_type": "markdown",
      "source": [
        "7.Student Management Create a class representing a student with attributes like student ID, name, and grades. Implement methods to calculate the average grade and display student details"
      ],
      "metadata": {
        "id": "RVSath1WvHb3"
      },
      "id": "RVSath1WvHb3"
    },
    {
      "cell_type": "code",
      "source": [
        "class Student:\n",
        "    def __init__(self, student_id, name, grades=[]):\n",
        "        self.student_id = student_id\n",
        "        self.name = name\n",
        "        self.grades = grades\n",
        "\n",
        "    def add_grade(self, grade):\n",
        "        self.grades.append(grade)\n",
        "\n",
        "    def calculate_average_grade(self):\n",
        "        if len(self.grades) == 0:\n",
        "            return 0\n",
        "        return sum(self.grades) / len(self.grades)\n",
        "\n",
        "    def display_details(self):\n",
        "        print(\"Student Details:\")\n",
        "        print(f\"Student ID: {self.student_id}\")\n",
        "        print(f\"Name: {self.name}\")\n",
        "        print(\"Grades:\", \", \".join(map(str, self.grades)))\n",
        "        print(f\"Average Grade: {self.calculate_average_grade()}\")\n",
        "\n",
        "# Example usage:\n",
        "student1 = Student(\"S001\", \"John Doe\", [85, 90, 75, 88])\n",
        "student1.display_details()\n",
        "\n",
        "student2 = Student(\"S002\", \"Jane Smith\")\n",
        "student2.add_grade(92)\n",
        "student2.add_grade(78)\n",
        "student2.add_grade(85)\n",
        "student2.display_details()\n"
      ],
      "metadata": {
        "colab": {
          "base_uri": "https://localhost:8080/"
        },
        "id": "InwChHwOvNOn",
        "outputId": "673f8704-8b12-400b-85c0-508a6f77e908"
      },
      "id": "InwChHwOvNOn",
      "execution_count": 12,
      "outputs": [
        {
          "output_type": "stream",
          "name": "stdout",
          "text": [
            "Student Details:\n",
            "Student ID: S001\n",
            "Name: John Doe\n",
            "Grades: 85, 90, 75, 88\n",
            "Average Grade: 84.5\n",
            "Student Details:\n",
            "Student ID: S002\n",
            "Name: Jane Smith\n",
            "Grades: 92, 78, 85\n",
            "Average Grade: 85.0\n"
          ]
        }
      ]
    },
    {
      "cell_type": "markdown",
      "source": [
        " 8.Email Management Create a class representing an email with attributes like sender, recipient, and subject. Implement methods to send an email and display email details."
      ],
      "metadata": {
        "id": "ynHiwdJFvU-Y"
      },
      "id": "ynHiwdJFvU-Y"
    },
    {
      "cell_type": "code",
      "source": [
        "class Email:\n",
        "    def __init__(self, sender, recipient, subject, body):\n",
        "        self.sender = sender\n",
        "        self.recipient = recipient\n",
        "        self.subject = subject\n",
        "        self.body = body\n",
        "\n",
        "    def send_email(self):\n",
        "        print(\"Email sent!\")\n",
        "        print(\"From:\", self.sender)\n",
        "        print(\"To:\", self.recipient)\n",
        "        print(\"Subject:\", self.subject)\n",
        "        print(\"Body:\", self.body)\n",
        "\n",
        "    def display_email_details(self):\n",
        "        print(\"Email Details:\")\n",
        "        print(\"From:\", self.sender)\n",
        "        print(\"To:\", self.recipient)\n",
        "        print(\"Subject:\", self.subject)\n",
        "        print(\"Body:\", self.body)\n",
        "\n",
        "# Example usage:\n",
        "email = Email(\"sender@example.com\", \"recipient@example.com\", \"Test Email\", \"Hello, this is a test email.\")\n",
        "email.display_email_details()\n",
        "print()\n",
        "email.send_email()\n"
      ],
      "metadata": {
        "colab": {
          "base_uri": "https://localhost:8080/"
        },
        "id": "qyn8W5zrvfC7",
        "outputId": "b0a3b604-ad6e-479c-f0c8-68682751af1f"
      },
      "id": "qyn8W5zrvfC7",
      "execution_count": 13,
      "outputs": [
        {
          "output_type": "stream",
          "name": "stdout",
          "text": [
            "Email Details:\n",
            "From: sender@example.com\n",
            "To: recipient@example.com\n",
            "Subject: Test Email\n",
            "Body: Hello, this is a test email.\n",
            "\n",
            "Email sent!\n",
            "From: sender@example.com\n",
            "To: recipient@example.com\n",
            "Subject: Test Email\n",
            "Body: Hello, this is a test email.\n"
          ]
        }
      ]
    },
    {
      "cell_type": "markdown",
      "source": [
        "9.Social Media Profile Create a class representing a social media profile with attributes like username and posts. Implement methods to add posts, display posts, and search for posts by keyword."
      ],
      "metadata": {
        "id": "NuoSoRuxvpK4"
      },
      "id": "NuoSoRuxvpK4"
    },
    {
      "cell_type": "code",
      "source": [
        "class SocialMediaProfile:\n",
        "    def __init__(self, username):\n",
        "        self.username = username\n",
        "        self.posts = []\n",
        "\n",
        "    def add_post(self, post):\n",
        "        self.posts.append(post)\n",
        "\n",
        "    def display_posts(self):\n",
        "        if not self.posts:\n",
        "            print(\"No posts to display.\")\n",
        "        else:\n",
        "            print(f\"Posts by {self.username}:\")\n",
        "            for post in self.posts:\n",
        "                print(post)\n",
        "\n",
        "    def search_posts_by_keyword(self, keyword):\n",
        "        found_posts = []\n",
        "        for post in self.posts:\n",
        "            if keyword.lower() in post.lower():\n",
        "                found_posts.append(post)\n",
        "        if found_posts:\n",
        "            print(f\"Posts containing '{keyword}':\")\n",
        "            for found_post in found_posts:\n",
        "                print(found_post)\n",
        "        else:\n",
        "            print(f\"No posts found containing '{keyword}'.\")\n",
        "\n",
        "# Example usage:\n",
        "profile = SocialMediaProfile(\"JohnDoe\")\n",
        "\n",
        "profile.add_post(\"Had a great time at the beach today!\")\n",
        "profile.add_post(\"Trying out a new recipe for dinner.\")\n",
        "profile.add_post(\"Just finished reading an amazing book.\")\n",
        "\n",
        "profile.display_posts()\n",
        "\n",
        "print(\"\\nSearching for posts containing 'beach':\")\n",
        "profile.search_posts_by_keyword(\"beach\")\n",
        "\n",
        "print(\"\\nSearching for posts containing 'movie':\")\n",
        "profile.search_posts_by_keyword(\"movie\")\n"
      ],
      "metadata": {
        "colab": {
          "base_uri": "https://localhost:8080/"
        },
        "id": "5vWhyAFlvwfk",
        "outputId": "0882b960-f329-43be-db24-5de9334e5508"
      },
      "id": "5vWhyAFlvwfk",
      "execution_count": 14,
      "outputs": [
        {
          "output_type": "stream",
          "name": "stdout",
          "text": [
            "Posts by JohnDoe:\n",
            "Had a great time at the beach today!\n",
            "Trying out a new recipe for dinner.\n",
            "Just finished reading an amazing book.\n",
            "\n",
            "Searching for posts containing 'beach':\n",
            "Posts containing 'beach':\n",
            "Had a great time at the beach today!\n",
            "\n",
            "Searching for posts containing 'movie':\n",
            "No posts found containing 'movie'.\n"
          ]
        }
      ]
    },
    {
      "cell_type": "markdown",
      "source": [
        "10.ToDo List Create a class representing a ToDo list with attributes like tasks and due dates. Implement methods to add tasks, mark tasks as completed, and display pending tasks."
      ],
      "metadata": {
        "id": "cnv6qutSv2di"
      },
      "id": "cnv6qutSv2di"
    },
    {
      "cell_type": "code",
      "source": [
        "class ToDoList:\n",
        "    def __init__(self):\n",
        "        self.tasks = {}\n",
        "\n",
        "    def add_task(self, task, due_date):\n",
        "        self.tasks[task] = due_date\n",
        "        print(f\"Task '{task}' added with due date {due_date}.\")\n",
        "\n",
        "    def mark_task_as_completed(self, task):\n",
        "        if task in self.tasks:\n",
        "            del self.tasks[task]\n",
        "            print(f\"Task '{task}' marked as completed.\")\n",
        "        else:\n",
        "            print(f\"Task '{task}' not found in the ToDo list.\")\n",
        "\n",
        "    def display_pending_tasks(self):\n",
        "        if not self.tasks:\n",
        "            print(\"No pending tasks.\")\n",
        "        else:\n",
        "            print(\"Pending Tasks:\")\n",
        "            for task, due_date in self.tasks.items():\n",
        "                print(f\"Task: {task} (Due Date: {due_date})\")\n",
        "\n",
        "# Example usage:\n",
        "todo_list = ToDoList()\n",
        "\n",
        "todo_list.add_task(\"Complete project proposal\", \"2024-06-01\")\n",
        "todo_list.add_task(\"Submit report\", \"2024-06-10\")\n",
        "todo_list.add_task(\"Prepare presentation\", \"2024-06-15\")\n",
        "\n",
        "todo_list.display_pending_tasks()\n",
        "\n",
        "todo_list.mark_task_as_completed(\"Submit report\")\n",
        "\n",
        "todo_list.display_pending_tasks()\n"
      ],
      "metadata": {
        "colab": {
          "base_uri": "https://localhost:8080/"
        },
        "id": "ZbkLmJ94v36D",
        "outputId": "d47bacc7-5b57-4e80-ab54-4998d0b0ddde"
      },
      "id": "ZbkLmJ94v36D",
      "execution_count": 15,
      "outputs": [
        {
          "output_type": "stream",
          "name": "stdout",
          "text": [
            "Task 'Complete project proposal' added with due date 2024-06-01.\n",
            "Task 'Submit report' added with due date 2024-06-10.\n",
            "Task 'Prepare presentation' added with due date 2024-06-15.\n",
            "Pending Tasks:\n",
            "Task: Complete project proposal (Due Date: 2024-06-01)\n",
            "Task: Submit report (Due Date: 2024-06-10)\n",
            "Task: Prepare presentation (Due Date: 2024-06-15)\n",
            "Task 'Submit report' marked as completed.\n",
            "Pending Tasks:\n",
            "Task: Complete project proposal (Due Date: 2024-06-01)\n",
            "Task: Prepare presentation (Due Date: 2024-06-15)\n"
          ]
        }
      ]
    },
    {
      "cell_type": "markdown",
      "id": "86b47d4f-860e-4702-83a0-0145887ab41a",
      "metadata": {
        "id": "86b47d4f-860e-4702-83a0-0145887ab41a"
      },
      "source": [
        "Problem 1: Bank Account Create a class representing a bank account with attributes like account number, account holder name, and balance. Implement methods to deposit and withdraw money from the account.\n",
        "\n",
        "Problem 2: Employee Management Create a class representing an employee with attributes like employee ID, name, and salary. Implement methods to calculate the yearly bonus and display employee details.\n",
        "\n",
        "Problem 3: Vehicle Rental Create a class representing a vehicle rental system. Implement methods to rent a vehicle, return a vehicle, and display available vehicles.\n",
        "\n",
        "Problem 4: Library Catalog Create classes representing a library and a book. Implement methods to add books to the library, borrow books, and display available books.\n",
        "\n",
        "Problem 5: Product Inventory Create classes representing a product and an inventory system. Implement methods to add products to the inventory, update product quantity, and display available products.\n",
        "\n",
        "Problem 6: Shape Calculation Create a class representing a shape with attributes like length, width, and height. Implement methods to calculate the area and perimeter of the shape.\n",
        "\n",
        "Problem 7: Student Management Create a class representing a student with attributes like student ID, name, and grades. Implement methods to calculate the average grade and display student details.\n",
        "\n",
        "Problem 8: Email Management Create a class representing an email with attributes like sender, recipient, and subject. Implement methods to send an email and display email details.\n",
        "\n",
        "Problem 9: Social Media Profile Create a class representing a social media profile with attributes like username and posts. Implement methods to add posts, display posts, and search for posts by keyword.\n",
        "\n",
        "Problem 10: ToDo List Create a class representing a ToDo list with attributes like tasks and due dates. Implement methods to add tasks, mark tasks as completed, and display pending tasks."
      ]
    },
    {
      "cell_type": "code",
      "execution_count": null,
      "id": "fef1683a-faa4-4d27-a0a6-7a742e512e9b",
      "metadata": {
        "id": "fef1683a-faa4-4d27-a0a6-7a742e512e9b"
      },
      "outputs": [],
      "source": []
    }
  ],
  "metadata": {
    "kernelspec": {
      "display_name": "Python 3 (ipykernel)",
      "language": "python",
      "name": "python3"
    },
    "language_info": {
      "codemirror_mode": {
        "name": "ipython",
        "version": 3
      },
      "file_extension": ".py",
      "mimetype": "text/x-python",
      "name": "python",
      "nbconvert_exporter": "python",
      "pygments_lexer": "ipython3",
      "version": "3.10.8"
    },
    "colab": {
      "provenance": []
    }
  },
  "nbformat": 4,
  "nbformat_minor": 5
}